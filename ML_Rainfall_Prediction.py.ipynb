{
 "cells": [
  {
   "cell_type": "markdown",
   "metadata": {
    "id": "zUEV_Dnh4ORL"
   },
   "source": [
    "# Data Wrangling"
   ]
  },
  {
   "cell_type": "markdown",
   "metadata": {
    "id": "dKvQ15_H4OS0"
   },
   "source": [
    "### Import The Libraries, Load The Dataset & Wrangle it:"
   ]
  },
  {
   "cell_type": "code",
   "execution_count": 1,
   "metadata": {
    "id": "w3jSEZCp4OS6"
   },
   "outputs": [],
   "source": [
    "# Import the libraries\n",
    "import warnings\n",
    "\n",
    "import math\n",
    "import numpy as np\n",
    "import pandas as pd\n",
    "import matplotlib.pyplot as plt\n",
    "import seaborn as sns\n",
    "from sklearn.preprocessing import StandardScaler\n",
    "from sklearn.linear_model import LinearRegression\n",
    "from sklearn.neural_network import MLPRegressor\n",
    "from sklearn.neighbors import KNeighborsRegressor\n",
    "from sklearn.linear_model import Ridge\n",
    "from sklearn.metrics import mean_absolute_error, mean_squared_error\n",
    "from sklearn.model_selection import train_test_split, cross_val_score\n",
    "%matplotlib inline\n",
    "\n",
    "warnings.simplefilter(action = \"ignore\", category = FutureWarning)\n",
    "\n",
    "# Load the clean version of the dataset\n",
    "# Assign to a dataframe\n",
    "# Perform feature selection:\n",
    "df_rainfall = pd.read_csv(\"austin_weather_clean.csv\")\n",
    "df_rainfall.drop(columns = [\"DewPointHighF\", \"DewPointLowF\"], inplace = True)\n",
    "\n",
    "# Remove outliers from the data;\n",
    "#'VisibilityHighMiles' column:\n",
    "low, high = df_rainfall[\"VisibilityHighMiles\"].quantile([0.01, 1])\n",
    "mask_visibilityH = df_rainfall[\"VisibilityHighMiles\"].between(low, high)\n",
    "#'SeaLevelPressureAvgInches' column:\n",
    "low, high = df_rainfall[\"SeaLevelPressureAvgInches\"].quantile([0.25, 1])\n",
    "mask_seaLevel = df_rainfall[\"SeaLevelPressureAvgInches\"].between(low, high)\n",
    "\n",
    "# Transform the dataframe:\n",
    "df_rainfall = df_rainfall[mask_visibilityH & mask_seaLevel]"
   ]
  },
  {
   "cell_type": "markdown",
   "metadata": {
    "id": "-Zir79bV4OTE"
   },
   "source": [
    "### Extract The Independent & Dependent Variables:"
   ]
  },
  {
   "cell_type": "code",
   "execution_count": 2,
   "metadata": {
    "id": "L_V0xfsN4OTF"
   },
   "outputs": [],
   "source": [
    "# The independent variables:\n",
    "input_ds = df_rainfall.drop(columns = [\"PrecipitationSumInches\", \"Unnamed: 0\"])\n",
    "# The dependent variable:\n",
    "output_ds = df_rainfall[\"PrecipitationSumInches\"]"
   ]
  },
  {
   "cell_type": "markdown",
   "metadata": {
    "id": "oqKw2fOx4OTa"
   },
   "source": [
    "# Exploratory Data Analysis"
   ]
  },
  {
   "cell_type": "code",
   "execution_count": 3,
   "metadata": {
    "colab": {
     "base_uri": "https://localhost:8080/",
     "height": 243
    },
    "id": "uAeFlbED4OTf",
    "outputId": "9b0fb99f-dcca-4939-acf6-3ebf779a869c"
   },
   "outputs": [
    {
     "data": {
      "text/html": [
       "<div>\n",
       "<style scoped>\n",
       "    .dataframe tbody tr th:only-of-type {\n",
       "        vertical-align: middle;\n",
       "    }\n",
       "\n",
       "    .dataframe tbody tr th {\n",
       "        vertical-align: top;\n",
       "    }\n",
       "\n",
       "    .dataframe thead th {\n",
       "        text-align: right;\n",
       "    }\n",
       "</style>\n",
       "<table border=\"1\" class=\"dataframe\">\n",
       "  <thead>\n",
       "    <tr style=\"text-align: right;\">\n",
       "      <th></th>\n",
       "      <th>Unnamed: 0</th>\n",
       "      <th>TempHighF</th>\n",
       "      <th>TempAvgF</th>\n",
       "      <th>TempLowF</th>\n",
       "      <th>DewPointAvgF</th>\n",
       "      <th>HumidityHighPercent</th>\n",
       "      <th>HumidityAvgPercent</th>\n",
       "      <th>HumidityLowPercent</th>\n",
       "      <th>SeaLevelPressureAvgInches</th>\n",
       "      <th>VisibilityHighMiles</th>\n",
       "      <th>VisibilityAvgMiles</th>\n",
       "      <th>VisibilityLowMiles</th>\n",
       "      <th>WindHighMPH</th>\n",
       "      <th>WindAvgMPH</th>\n",
       "      <th>WindGustMPH</th>\n",
       "      <th>PrecipitationSumInches</th>\n",
       "    </tr>\n",
       "  </thead>\n",
       "  <tbody>\n",
       "    <tr>\n",
       "      <th>1</th>\n",
       "      <td>1</td>\n",
       "      <td>56</td>\n",
       "      <td>48</td>\n",
       "      <td>39</td>\n",
       "      <td>36.0</td>\n",
       "      <td>93.0</td>\n",
       "      <td>68.0</td>\n",
       "      <td>43.0</td>\n",
       "      <td>30.13</td>\n",
       "      <td>10.0</td>\n",
       "      <td>10.0</td>\n",
       "      <td>5.0</td>\n",
       "      <td>16.0</td>\n",
       "      <td>6.0</td>\n",
       "      <td>25.0</td>\n",
       "      <td>0.0</td>\n",
       "    </tr>\n",
       "    <tr>\n",
       "      <th>2</th>\n",
       "      <td>2</td>\n",
       "      <td>58</td>\n",
       "      <td>45</td>\n",
       "      <td>32</td>\n",
       "      <td>27.0</td>\n",
       "      <td>76.0</td>\n",
       "      <td>52.0</td>\n",
       "      <td>27.0</td>\n",
       "      <td>30.49</td>\n",
       "      <td>10.0</td>\n",
       "      <td>10.0</td>\n",
       "      <td>10.0</td>\n",
       "      <td>8.0</td>\n",
       "      <td>3.0</td>\n",
       "      <td>12.0</td>\n",
       "      <td>0.0</td>\n",
       "    </tr>\n",
       "    <tr>\n",
       "      <th>3</th>\n",
       "      <td>3</td>\n",
       "      <td>61</td>\n",
       "      <td>46</td>\n",
       "      <td>31</td>\n",
       "      <td>28.0</td>\n",
       "      <td>89.0</td>\n",
       "      <td>56.0</td>\n",
       "      <td>22.0</td>\n",
       "      <td>30.45</td>\n",
       "      <td>10.0</td>\n",
       "      <td>10.0</td>\n",
       "      <td>7.0</td>\n",
       "      <td>12.0</td>\n",
       "      <td>4.0</td>\n",
       "      <td>20.0</td>\n",
       "      <td>0.0</td>\n",
       "    </tr>\n",
       "    <tr>\n",
       "      <th>4</th>\n",
       "      <td>4</td>\n",
       "      <td>58</td>\n",
       "      <td>50</td>\n",
       "      <td>41</td>\n",
       "      <td>40.0</td>\n",
       "      <td>86.0</td>\n",
       "      <td>71.0</td>\n",
       "      <td>56.0</td>\n",
       "      <td>30.33</td>\n",
       "      <td>10.0</td>\n",
       "      <td>10.0</td>\n",
       "      <td>7.0</td>\n",
       "      <td>10.0</td>\n",
       "      <td>2.0</td>\n",
       "      <td>16.0</td>\n",
       "      <td>0.0</td>\n",
       "    </tr>\n",
       "    <tr>\n",
       "      <th>5</th>\n",
       "      <td>5</td>\n",
       "      <td>57</td>\n",
       "      <td>48</td>\n",
       "      <td>39</td>\n",
       "      <td>36.0</td>\n",
       "      <td>79.0</td>\n",
       "      <td>63.0</td>\n",
       "      <td>47.0</td>\n",
       "      <td>30.40</td>\n",
       "      <td>10.0</td>\n",
       "      <td>9.0</td>\n",
       "      <td>7.0</td>\n",
       "      <td>12.0</td>\n",
       "      <td>3.0</td>\n",
       "      <td>17.0</td>\n",
       "      <td>0.0</td>\n",
       "    </tr>\n",
       "  </tbody>\n",
       "</table>\n",
       "</div>"
      ],
      "text/plain": [
       "   Unnamed: 0  TempHighF  TempAvgF  TempLowF  DewPointAvgF  \\\n",
       "1           1         56        48        39          36.0   \n",
       "2           2         58        45        32          27.0   \n",
       "3           3         61        46        31          28.0   \n",
       "4           4         58        50        41          40.0   \n",
       "5           5         57        48        39          36.0   \n",
       "\n",
       "   HumidityHighPercent  HumidityAvgPercent  HumidityLowPercent  \\\n",
       "1                 93.0                68.0                43.0   \n",
       "2                 76.0                52.0                27.0   \n",
       "3                 89.0                56.0                22.0   \n",
       "4                 86.0                71.0                56.0   \n",
       "5                 79.0                63.0                47.0   \n",
       "\n",
       "   SeaLevelPressureAvgInches  VisibilityHighMiles  VisibilityAvgMiles  \\\n",
       "1                      30.13                 10.0                10.0   \n",
       "2                      30.49                 10.0                10.0   \n",
       "3                      30.45                 10.0                10.0   \n",
       "4                      30.33                 10.0                10.0   \n",
       "5                      30.40                 10.0                 9.0   \n",
       "\n",
       "   VisibilityLowMiles  WindHighMPH  WindAvgMPH  WindGustMPH  \\\n",
       "1                 5.0         16.0         6.0         25.0   \n",
       "2                10.0          8.0         3.0         12.0   \n",
       "3                 7.0         12.0         4.0         20.0   \n",
       "4                 7.0         10.0         2.0         16.0   \n",
       "5                 7.0         12.0         3.0         17.0   \n",
       "\n",
       "   PrecipitationSumInches  \n",
       "1                     0.0  \n",
       "2                     0.0  \n",
       "3                     0.0  \n",
       "4                     0.0  \n",
       "5                     0.0  "
      ]
     },
     "execution_count": 3,
     "metadata": {},
     "output_type": "execute_result"
    }
   ],
   "source": [
    "# Explore the dataframe; the first 10 rows\n",
    "df_rainfall.head()"
   ]
  },
  {
   "cell_type": "code",
   "execution_count": 4,
   "metadata": {
    "id": "4kEJGUa84OTp"
   },
   "outputs": [],
   "source": [
    "# Remove the unwanted column('Unnamed: 0):\n",
    "df_rainfall.drop(columns = [\"Unnamed: 0\"], inplace = True)"
   ]
  },
  {
   "cell_type": "code",
   "execution_count": 5,
   "metadata": {
    "colab": {
     "base_uri": "https://localhost:8080/"
    },
    "id": "-goa2pvx4OTz",
    "outputId": "e84c5d48-f049-4991-8982-7639767812a8"
   },
   "outputs": [
    {
     "name": "stdout",
     "output_type": "stream",
     "text": [
      "<class 'pandas.core.frame.DataFrame'>\n",
      "Index: 1008 entries, 1 to 1318\n",
      "Data columns (total 15 columns):\n",
      " #   Column                     Non-Null Count  Dtype  \n",
      "---  ------                     --------------  -----  \n",
      " 0   TempHighF                  1008 non-null   int64  \n",
      " 1   TempAvgF                   1008 non-null   int64  \n",
      " 2   TempLowF                   1008 non-null   int64  \n",
      " 3   DewPointAvgF               1008 non-null   float64\n",
      " 4   HumidityHighPercent        1008 non-null   float64\n",
      " 5   HumidityAvgPercent         1008 non-null   float64\n",
      " 6   HumidityLowPercent         1008 non-null   float64\n",
      " 7   SeaLevelPressureAvgInches  1008 non-null   float64\n",
      " 8   VisibilityHighMiles        1008 non-null   float64\n",
      " 9   VisibilityAvgMiles         1008 non-null   float64\n",
      " 10  VisibilityLowMiles         1008 non-null   float64\n",
      " 11  WindHighMPH                1008 non-null   float64\n",
      " 12  WindAvgMPH                 1008 non-null   float64\n",
      " 13  WindGustMPH                1008 non-null   float64\n",
      " 14  PrecipitationSumInches     1008 non-null   float64\n",
      "dtypes: float64(12), int64(3)\n",
      "memory usage: 126.0 KB\n"
     ]
    }
   ],
   "source": [
    "# An overview of the dataframe:\n",
    "df_rainfall.info()"
   ]
  },
  {
   "cell_type": "code",
   "execution_count": 6,
   "metadata": {
    "colab": {
     "base_uri": "https://localhost:8080/"
    },
    "id": "fbADH1BA4OT2",
    "outputId": "3ac77cab-2afc-43a6-af54-844641764e21"
   },
   "outputs": [
    {
     "data": {
      "text/plain": [
       "(1008, 14)"
      ]
     },
     "execution_count": 6,
     "metadata": {},
     "output_type": "execute_result"
    }
   ],
   "source": [
    "input_ds.shape"
   ]
  },
  {
   "cell_type": "markdown",
   "metadata": {
    "id": "0IqmiAEW4OUI"
   },
   "source": [
    "### Feature Distribution & Correlation:"
   ]
  },
  {
   "cell_type": "code",
   "execution_count": 7,
   "metadata": {
    "colab": {
     "base_uri": "https://localhost:8080/",
     "height": 472
    },
    "id": "geMi8_dZ4OUJ",
    "outputId": "1cd1b9fb-cb82-447e-b4be-1a813685e4e6"
   },
   "outputs": [
    {
     "data": {
      "image/png": "[encoded data removed]",
      "text/plain": [
       "<Figure size 640x480 with 1 Axes>"
      ]
     },
     "metadata": {},
     "output_type": "display_data"
    }
   ],
   "source": [
    "# Use a horizontal boxplot to check for outliers in the 'TempHighF' column:\n",
    "plt.boxplot(df_rainfall[\"TempHighF\"], vert = False)\n",
    "plt.xlabel(\"Highest Temperature [°F]\")\n",
    "plt.title(\"Distribution of Highest Temperature\");"
   ]
  },
  {
   "cell_type": "code",
   "execution_count": null,
   "metadata": {
    "colab": {
     "base_uri": "https://localhost:8080/",
     "height": 335
    },
    "id": "imAIltqf4OUK",
    "outputId": "9237fb1a-7e3d-4335-90b6-3706c2415b96"
   },
   "outputs": [
    {
     "data": {
      "text/html": [
       "<div>\n",
       "<style scoped>\n",
       "    .dataframe tbody tr th:only-of-type {\n",
       "        vertical-align: middle;\n",
       "    }\n",
       "\n",
       "    .dataframe tbody tr th {\n",
       "        vertical-align: top;\n",
       "    }\n",
       "\n",
       "    .dataframe thead th {\n",
       "        text-align: right;\n",
       "    }\n",
       "</style>\n",
       "<table border=\"1\" class=\"dataframe\">\n",
       "  <thead>\n",
       "    <tr style=\"text-align: right;\">\n",
       "      <th></th>\n",
       "      <th>TempHighF</th>\n",
       "    </tr>\n",
       "  </thead>\n",
       "  <tbody>\n",
       "    <tr>\n",
       "      <th>count</th>\n",
       "      <td>1008.000000</td>\n",
       "    </tr>\n",
       "    <tr>\n",
       "      <th>mean</th>\n",
       "      <td>79.078373</td>\n",
       "    </tr>\n",
       "    <tr>\n",
       "      <th>std</th>\n",
       "      <td>15.522569</td>\n",
       "    </tr>\n",
       "    <tr>\n",
       "      <th>min</th>\n",
       "      <td>32.000000</td>\n",
       "    </tr>\n",
       "    <tr>\n",
       "      <th>25%</th>\n",
       "      <td>69.000000</td>\n",
       "    </tr>\n",
       "    <tr>\n",
       "      <th>50%</th>\n",
       "      <td>81.000000</td>\n",
       "    </tr>\n",
       "    <tr>\n",
       "      <th>75%</th>\n",
       "      <td>92.000000</td>\n",
       "    </tr>\n",
       "    <tr>\n",
       "      <th>max</th>\n",
       "      <td>106.000000</td>\n",
       "    </tr>\n",
       "  </tbody>\n",
       "</table>\n",
       "</div><br><label><b>dtype:</b> float64</label>"
      ],
      "text/plain": [
       "count    1008.000000\n",
       "mean       79.078373\n",
       "std        15.522569\n",
       "min        32.000000\n",
       "25%        69.000000\n",
       "50%        81.000000\n",
       "75%        92.000000\n",
       "max       106.000000\n",
       "Name: TempHighF, dtype: float64"
      ]
     },
     "execution_count": 8,
     "metadata": {},
     "output_type": "execute_result"
    }
   ],
   "source": [
    "# Summary stats of 'TempHighF' feature:\n",
    "df_rainfall[\"TempHighF\"].describe()"
   ]
  },
  {
   "cell_type": "code",
   "execution_count": null,
   "metadata": {
    "colab": {
     "base_uri": "https://localhost:8080/",
     "height": 472
    },
    "id": "hPgbWqLQ4OUU",
    "outputId": "87a05198-f5c0-4663-b457-102738403148"
   },
   "outputs": [
    {
     "data": {
      "image/png": "[encoded data removed]",
      "text/plain": [
       "<Figure size 640x480 with 1 Axes>"
      ]
     },
     "metadata": {},
     "output_type": "display_data"
    }
   ],
   "source": [
    "# Use a horizontal boxplot to check for outliers in the 'HumidityAvgPercent' column:\n",
    "plt.boxplot(df_rainfall[\"HumidityAvgPercent\"], vert = False)\n",
    "plt.xlabel(\"Average Humidity [%]\")\n",
    "plt.title(\"Distribution of Average Humidity\");"
   ]
  },
  {
   "cell_type": "code",
   "execution_count": null,
   "metadata": {
    "colab": {
     "base_uri": "https://localhost:8080/",
     "height": 335
    },
    "id": "tnLJw2mc4OUm",
    "outputId": "52f65b4d-867e-412b-a3da-3f793caabe54"
   },
   "outputs": [
    {
     "data": {
      "text/html": [
       "<div>\n",
       "<style scoped>\n",
       "    .dataframe tbody tr th:only-of-type {\n",
       "        vertical-align: middle;\n",
       "    }\n",
       "\n",
       "    .dataframe tbody tr th {\n",
       "        vertical-align: top;\n",
       "    }\n",
       "\n",
       "    .dataframe thead th {\n",
       "        text-align: right;\n",
       "    }\n",
       "</style>\n",
       "<table border=\"1\" class=\"dataframe\">\n",
       "  <thead>\n",
       "    <tr style=\"text-align: right;\">\n",
       "      <th></th>\n",
       "      <th>HumidityAvgPercent</th>\n",
       "    </tr>\n",
       "  </thead>\n",
       "  <tbody>\n",
       "    <tr>\n",
       "      <th>count</th>\n",
       "      <td>1008.000000</td>\n",
       "    </tr>\n",
       "    <tr>\n",
       "      <th>mean</th>\n",
       "      <td>66.210317</td>\n",
       "    </tr>\n",
       "    <tr>\n",
       "      <th>std</th>\n",
       "      <td>12.755567</td>\n",
       "    </tr>\n",
       "    <tr>\n",
       "      <th>min</th>\n",
       "      <td>27.000000</td>\n",
       "    </tr>\n",
       "    <tr>\n",
       "      <th>25%</th>\n",
       "      <td>58.000000</td>\n",
       "    </tr>\n",
       "    <tr>\n",
       "      <th>50%</th>\n",
       "      <td>67.000000</td>\n",
       "    </tr>\n",
       "    <tr>\n",
       "      <th>75%</th>\n",
       "      <td>74.000000</td>\n",
       "    </tr>\n",
       "    <tr>\n",
       "      <th>max</th>\n",
       "      <td>97.000000</td>\n",
       "    </tr>\n",
       "  </tbody>\n",
       "</table>\n",
       "</div><br><label><b>dtype:</b> float64</label>"
      ],
      "text/plain": [
       "count    1008.000000\n",
       "mean       66.210317\n",
       "std        12.755567\n",
       "min        27.000000\n",
       "25%        58.000000\n",
       "50%        67.000000\n",
       "75%        74.000000\n",
       "max        97.000000\n",
       "Name: HumidityAvgPercent, dtype: float64"
      ]
     },
     "execution_count": 10,
     "metadata": {},
     "output_type": "execute_result"
    }
   ],
   "source": [
    "df_rainfall[\"HumidityAvgPercent\"].describe()"
   ]
  },
  {
   "cell_type": "code",
   "execution_count": null,
   "metadata": {
    "colab": {
     "base_uri": "https://localhost:8080/",
     "height": 472
    },
    "id": "upLG9w5f4OUn",
    "outputId": "08ecb368-1883-4490-da8b-e105a7585f05"
   },
   "outputs": [
    {
     "data": {
      "image/png": "[encoded data removed]",
      "text/plain": [
       "<Figure size 640x480 with 1 Axes>"
      ]
     },
     "metadata": {},
     "output_type": "display_data"
    }
   ],
   "source": [
    "# Use a horizontal boxplot to check for outliers in the 'SeaLevelPressureAvgInches' column:\n",
    "plt.boxplot(df_rainfall[\"SeaLevelPressureAvgInches\"], vert = False)\n",
    "plt.xlabel(\"Average Sea Level Pressure [Inches]\")\n",
    "plt.title(\"Distribution of Average Sea Level Pressure\");"
   ]
  },
  {
   "cell_type": "code",
   "execution_count": null,
   "metadata": {
    "colab": {
     "base_uri": "https://localhost:8080/",
     "height": 335
    },
    "id": "JvSqM6pF4OUn",
    "outputId": "e6d04314-f325-45b5-8101-0c664c9f144c"
   },
   "outputs": [
    {
     "data": {
      "text/html": [
       "<div>\n",
       "<style scoped>\n",
       "    .dataframe tbody tr th:only-of-type {\n",
       "        vertical-align: middle;\n",
       "    }\n",
       "\n",
       "    .dataframe tbody tr th {\n",
       "        vertical-align: top;\n",
       "    }\n",
       "\n",
       "    .dataframe thead th {\n",
       "        text-align: right;\n",
       "    }\n",
       "</style>\n",
       "<table border=\"1\" class=\"dataframe\">\n",
       "  <thead>\n",
       "    <tr style=\"text-align: right;\">\n",
       "      <th></th>\n",
       "      <th>SeaLevelPressureAvgInches</th>\n",
       "    </tr>\n",
       "  </thead>\n",
       "  <tbody>\n",
       "    <tr>\n",
       "      <th>count</th>\n",
       "      <td>1008.000000</td>\n",
       "    </tr>\n",
       "    <tr>\n",
       "      <th>mean</th>\n",
       "      <td>30.081349</td>\n",
       "    </tr>\n",
       "    <tr>\n",
       "      <th>std</th>\n",
       "      <td>0.146358</td>\n",
       "    </tr>\n",
       "    <tr>\n",
       "      <th>min</th>\n",
       "      <td>29.910000</td>\n",
       "    </tr>\n",
       "    <tr>\n",
       "      <th>25%</th>\n",
       "      <td>29.970000</td>\n",
       "    </tr>\n",
       "    <tr>\n",
       "      <th>50%</th>\n",
       "      <td>30.040000</td>\n",
       "    </tr>\n",
       "    <tr>\n",
       "      <th>75%</th>\n",
       "      <td>30.150000</td>\n",
       "    </tr>\n",
       "    <tr>\n",
       "      <th>max</th>\n",
       "      <td>30.740000</td>\n",
       "    </tr>\n",
       "  </tbody>\n",
       "</table>\n",
       "</div><br><label><b>dtype:</b> float64</label>"
      ],
      "text/plain": [
       "count    1008.000000\n",
       "mean       30.081349\n",
       "std         0.146358\n",
       "min        29.910000\n",
       "25%        29.970000\n",
       "50%        30.040000\n",
       "75%        30.150000\n",
       "max        30.740000\n",
       "Name: SeaLevelPressureAvgInches, dtype: float64"
      ]
     },
     "execution_count": 12,
     "metadata": {},
     "output_type": "execute_result"
    }
   ],
   "source": [
    "df_rainfall[\"SeaLevelPressureAvgInches\"].describe()"
   ]
  },
  {
   "cell_type": "code",
   "execution_count": null,
   "metadata": {
    "colab": {
     "base_uri": "https://localhost:8080/",
     "height": 472
    },
    "id": "njGeZsqZ4OUu",
    "outputId": "55540a1a-922f-4668-ef43-c80bace8eb9f"
   },
   "outputs": [
    {
     "data": {
      "image/png": "[encoded data removed]",
      "text/plain": [
       "<Figure size 640x480 with 1 Axes>"
      ]
     },
     "metadata": {},
     "output_type": "display_data"
    }
   ],
   "source": [
    "# Use a horizontal boxplot to check for outliers in the 'VisibilityAvgMiles' column:\n",
    "plt.boxplot(df_rainfall[\"VisibilityAvgMiles\"], vert = False)\n",
    "plt.xlabel(\"Average Visibility [Miles]\")\n",
    "plt.title(\"Distribution of Average Visibility\");"
   ]
  },
  {
   "cell_type": "code",
   "execution_count": null,
   "metadata": {
    "colab": {
     "base_uri": "https://localhost:8080/",
     "height": 335
    },
    "id": "NIGlqEtg4OUy",
    "outputId": "29bd2551-612a-41db-d88a-3f3dea8d7159"
   },
   "outputs": [
    {
     "data": {
      "text/html": [
       "<div>\n",
       "<style scoped>\n",
       "    .dataframe tbody tr th:only-of-type {\n",
       "        vertical-align: middle;\n",
       "    }\n",
       "\n",
       "    .dataframe tbody tr th {\n",
       "        vertical-align: top;\n",
       "    }\n",
       "\n",
       "    .dataframe thead th {\n",
       "        text-align: right;\n",
       "    }\n",
       "</style>\n",
       "<table border=\"1\" class=\"dataframe\">\n",
       "  <thead>\n",
       "    <tr style=\"text-align: right;\">\n",
       "      <th></th>\n",
       "      <th>VisibilityAvgMiles</th>\n",
       "    </tr>\n",
       "  </thead>\n",
       "  <tbody>\n",
       "    <tr>\n",
       "      <th>count</th>\n",
       "      <td>1008.000000</td>\n",
       "    </tr>\n",
       "    <tr>\n",
       "      <th>mean</th>\n",
       "      <td>9.230159</td>\n",
       "    </tr>\n",
       "    <tr>\n",
       "      <th>std</th>\n",
       "      <td>1.435333</td>\n",
       "    </tr>\n",
       "    <tr>\n",
       "      <th>min</th>\n",
       "      <td>2.000000</td>\n",
       "    </tr>\n",
       "    <tr>\n",
       "      <th>25%</th>\n",
       "      <td>9.000000</td>\n",
       "    </tr>\n",
       "    <tr>\n",
       "      <th>50%</th>\n",
       "      <td>10.000000</td>\n",
       "    </tr>\n",
       "    <tr>\n",
       "      <th>75%</th>\n",
       "      <td>10.000000</td>\n",
       "    </tr>\n",
       "    <tr>\n",
       "      <th>max</th>\n",
       "      <td>10.000000</td>\n",
       "    </tr>\n",
       "  </tbody>\n",
       "</table>\n",
       "</div><br><label><b>dtype:</b> float64</label>"
      ],
      "text/plain": [
       "count    1008.000000\n",
       "mean        9.230159\n",
       "std         1.435333\n",
       "min         2.000000\n",
       "25%         9.000000\n",
       "50%        10.000000\n",
       "75%        10.000000\n",
       "max        10.000000\n",
       "Name: VisibilityAvgMiles, dtype: float64"
      ]
     },
     "execution_count": 14,
     "metadata": {},
     "output_type": "execute_result"
    }
   ],
   "source": [
    "df_rainfall[\"VisibilityAvgMiles\"].describe()"
   ]
  },
  {
   "cell_type": "code",
   "execution_count": null,
   "metadata": {
    "colab": {
     "base_uri": "https://localhost:8080/",
     "height": 472
    },
    "id": "xnoAMOwW4OUz",
    "outputId": "0f10f10e-503a-48cb-87bc-fbd742c54e34"
   },
   "outputs": [
    {
     "data": {
      "image/png": "[encoded data removed]",
      "text/plain": [
       "<Figure size 640x480 with 1 Axes>"
      ]
     },
     "metadata": {},
     "output_type": "display_data"
    }
   ],
   "source": [
    "# Use a horizontal boxplot to check for outliers in the 'WindAvgMPH' column:\n",
    "plt.boxplot(df_rainfall[\"WindAvgMPH\"], vert = False)\n",
    "plt.xlabel(\"Average Wind Speed [MPH]\")\n",
    "plt.title(\"Distribution of Average Wind Speed\");"
   ]
  },
  {
   "cell_type": "code",
   "execution_count": null,
   "metadata": {
    "colab": {
     "base_uri": "https://localhost:8080/",
     "height": 335
    },
    "id": "41xOnYXe4OU0",
    "outputId": "c07fa199-6284-4c41-81f5-24ed36ff999c"
   },
   "outputs": [
    {
     "data": {
      "text/html": [
       "<div>\n",
       "<style scoped>\n",
       "    .dataframe tbody tr th:only-of-type {\n",
       "        vertical-align: middle;\n",
       "    }\n",
       "\n",
       "    .dataframe tbody tr th {\n",
       "        vertical-align: top;\n",
       "    }\n",
       "\n",
       "    .dataframe thead th {\n",
       "        text-align: right;\n",
       "    }\n",
       "</style>\n",
       "<table border=\"1\" class=\"dataframe\">\n",
       "  <thead>\n",
       "    <tr style=\"text-align: right;\">\n",
       "      <th></th>\n",
       "      <th>WindAvgMPH</th>\n",
       "    </tr>\n",
       "  </thead>\n",
       "  <tbody>\n",
       "    <tr>\n",
       "      <th>count</th>\n",
       "      <td>1008.000000</td>\n",
       "    </tr>\n",
       "    <tr>\n",
       "      <th>mean</th>\n",
       "      <td>4.767857</td>\n",
       "    </tr>\n",
       "    <tr>\n",
       "      <th>std</th>\n",
       "      <td>2.029494</td>\n",
       "    </tr>\n",
       "    <tr>\n",
       "      <th>min</th>\n",
       "      <td>1.000000</td>\n",
       "    </tr>\n",
       "    <tr>\n",
       "      <th>25%</th>\n",
       "      <td>3.000000</td>\n",
       "    </tr>\n",
       "    <tr>\n",
       "      <th>50%</th>\n",
       "      <td>5.000000</td>\n",
       "    </tr>\n",
       "    <tr>\n",
       "      <th>75%</th>\n",
       "      <td>6.000000</td>\n",
       "    </tr>\n",
       "    <tr>\n",
       "      <th>max</th>\n",
       "      <td>12.000000</td>\n",
       "    </tr>\n",
       "  </tbody>\n",
       "</table>\n",
       "</div><br><label><b>dtype:</b> float64</label>"
      ],
      "text/plain": [
       "count    1008.000000\n",
       "mean        4.767857\n",
       "std         2.029494\n",
       "min         1.000000\n",
       "25%         3.000000\n",
       "50%         5.000000\n",
       "75%         6.000000\n",
       "max        12.000000\n",
       "Name: WindAvgMPH, dtype: float64"
      ]
     },
     "execution_count": 16,
     "metadata": {},
     "output_type": "execute_result"
    }
   ],
   "source": [
    "df_rainfall[\"WindAvgMPH\"].describe()"
   ]
  },
  {
   "cell_type": "code",
   "execution_count": null,
   "metadata": {
    "colab": {
     "base_uri": "https://localhost:8080/",
     "height": 472
    },
    "id": "TsjDItC84OU0",
    "outputId": "54595f23-b137-4b65-b2ac-97f5fc8af704"
   },
   "outputs": [
    {
     "data": {
      "image/png": "[encoded data removed]",
      "text/plain": [
       "<Figure size 640x480 with 1 Axes>"
      ]
     },
     "metadata": {},
     "output_type": "display_data"
    }
   ],
   "source": [
    "# Use a horizontal boxplot to check for outliers in the 'WindGustMPH' column:\n",
    "plt.boxplot(df_rainfall[\"WindGustMPH\"], vert = False)\n",
    "plt.xlabel(\"Wind Gust [MPH]\")\n",
    "plt.title(\"Distribution of Wind Gust\");"
   ]
  },
  {
   "cell_type": "code",
   "execution_count": null,
   "metadata": {
    "colab": {
     "base_uri": "https://localhost:8080/",
     "height": 335
    },
    "id": "ypmb1Nvl4OU1",
    "outputId": "5c71d06f-d62c-4dfc-c307-33ee84620eda"
   },
   "outputs": [
    {
     "data": {
      "text/html": [
       "<div>\n",
       "<style scoped>\n",
       "    .dataframe tbody tr th:only-of-type {\n",
       "        vertical-align: middle;\n",
       "    }\n",
       "\n",
       "    .dataframe tbody tr th {\n",
       "        vertical-align: top;\n",
       "    }\n",
       "\n",
       "    .dataframe thead th {\n",
       "        text-align: right;\n",
       "    }\n",
       "</style>\n",
       "<table border=\"1\" class=\"dataframe\">\n",
       "  <thead>\n",
       "    <tr style=\"text-align: right;\">\n",
       "      <th></th>\n",
       "      <th>WindGustMPH</th>\n",
       "    </tr>\n",
       "  </thead>\n",
       "  <tbody>\n",
       "    <tr>\n",
       "      <th>count</th>\n",
       "      <td>1008.000000</td>\n",
       "    </tr>\n",
       "    <tr>\n",
       "      <th>mean</th>\n",
       "      <td>20.609127</td>\n",
       "    </tr>\n",
       "    <tr>\n",
       "      <th>std</th>\n",
       "      <td>5.677006</td>\n",
       "    </tr>\n",
       "    <tr>\n",
       "      <th>min</th>\n",
       "      <td>0.000000</td>\n",
       "    </tr>\n",
       "    <tr>\n",
       "      <th>25%</th>\n",
       "      <td>17.000000</td>\n",
       "    </tr>\n",
       "    <tr>\n",
       "      <th>50%</th>\n",
       "      <td>20.000000</td>\n",
       "    </tr>\n",
       "    <tr>\n",
       "      <th>75%</th>\n",
       "      <td>24.000000</td>\n",
       "    </tr>\n",
       "    <tr>\n",
       "      <th>max</th>\n",
       "      <td>57.000000</td>\n",
       "    </tr>\n",
       "  </tbody>\n",
       "</table>\n",
       "</div><br><label><b>dtype:</b> float64</label>"
      ],
      "text/plain": [
       "count    1008.000000\n",
       "mean       20.609127\n",
       "std         5.677006\n",
       "min         0.000000\n",
       "25%        17.000000\n",
       "50%        20.000000\n",
       "75%        24.000000\n",
       "max        57.000000\n",
       "Name: WindGustMPH, dtype: float64"
      ]
     },
     "execution_count": 18,
     "metadata": {},
     "output_type": "execute_result"
    }
   ],
   "source": [
    "df_rainfall[\"WindGustMPH\"].describe()"
   ]
  },
  {
   "cell_type": "code",
   "execution_count": null,
   "metadata": {
    "colab": {
     "base_uri": "https://localhost:8080/",
     "height": 472
    },
    "id": "81V7lM5-4OU4",
    "outputId": "f8a88cd6-1a5b-41a9-a7ff-0b17dd7849d1"
   },
   "outputs": [
    {
     "data": {
      "image/png": "[encoded data removed]",
      "text/plain": [
       "<Figure size 640x480 with 1 Axes>"
      ]
     },
     "metadata": {},
     "output_type": "display_data"
    }
   ],
   "source": [
    "# Use a horizontal boxplot to check for outliers in the 'PrecipitationSumInches' column:\n",
    "plt.boxplot(df_rainfall[\"PrecipitationSumInches\"], vert = False)\n",
    "plt.xlabel(\"Amount of Precipitation (Inches)\")\n",
    "plt.title(\"Distribution of Precipitation\");"
   ]
  },
  {
   "cell_type": "code",
   "execution_count": null,
   "metadata": {
    "colab": {
     "base_uri": "https://localhost:8080/",
     "height": 335
    },
    "id": "kO2JV1ER4OU5",
    "outputId": "b10045ee-ccb5-4f73-d506-1b5cbcec01ea"
   },
   "outputs": [
    {
     "data": {
      "text/html": [
       "<div>\n",
       "<style scoped>\n",
       "    .dataframe tbody tr th:only-of-type {\n",
       "        vertical-align: middle;\n",
       "    }\n",
       "\n",
       "    .dataframe tbody tr th {\n",
       "        vertical-align: top;\n",
       "    }\n",
       "\n",
       "    .dataframe thead th {\n",
       "        text-align: right;\n",
       "    }\n",
       "</style>\n",
       "<table border=\"1\" class=\"dataframe\">\n",
       "  <thead>\n",
       "    <tr style=\"text-align: right;\">\n",
       "      <th></th>\n",
       "      <th>PrecipitationSumInches</th>\n",
       "    </tr>\n",
       "  </thead>\n",
       "  <tbody>\n",
       "    <tr>\n",
       "      <th>count</th>\n",
       "      <td>1008.000000</td>\n",
       "    </tr>\n",
       "    <tr>\n",
       "      <th>mean</th>\n",
       "      <td>0.087073</td>\n",
       "    </tr>\n",
       "    <tr>\n",
       "      <th>std</th>\n",
       "      <td>0.306352</td>\n",
       "    </tr>\n",
       "    <tr>\n",
       "      <th>min</th>\n",
       "      <td>0.000000</td>\n",
       "    </tr>\n",
       "    <tr>\n",
       "      <th>25%</th>\n",
       "      <td>0.000000</td>\n",
       "    </tr>\n",
       "    <tr>\n",
       "      <th>50%</th>\n",
       "      <td>0.000000</td>\n",
       "    </tr>\n",
       "    <tr>\n",
       "      <th>75%</th>\n",
       "      <td>0.000000</td>\n",
       "    </tr>\n",
       "    <tr>\n",
       "      <th>max</th>\n",
       "      <td>3.840000</td>\n",
       "    </tr>\n",
       "  </tbody>\n",
       "</table>\n",
       "</div><br><label><b>dtype:</b> float64</label>"
      ],
      "text/plain": [
       "count    1008.000000\n",
       "mean        0.087073\n",
       "std         0.306352\n",
       "min         0.000000\n",
       "25%         0.000000\n",
       "50%         0.000000\n",
       "75%         0.000000\n",
       "max         3.840000\n",
       "Name: PrecipitationSumInches, dtype: float64"
      ]
     },
     "execution_count": 20,
     "metadata": {},
     "output_type": "execute_result"
    }
   ],
   "source": [
    "# Summary stats of 'PrecipitationSumInches' attribute:\n",
    "df_rainfall[\"PrecipitationSumInches\"].describe()"
   ]
  },
  {
   "cell_type": "code",
   "execution_count": null,
   "metadata": {
    "colab": {
     "base_uri": "https://localhost:8080/",
     "height": 937
    },
    "id": "1HSO5AgV4OU6",
    "outputId": "0e12da89-eb33-4159-d5fb-2fb056be4265"
   },
   "outputs": [
    {
     "data": {
      "image/png": "[encoded data removed]",
      "text/plain": [
       "<Figure size 1200x900 with 2 Axes>"
      ]
     },
     "metadata": {},
     "output_type": "display_data"
    }
   ],
   "source": [
    "# Correlation matrix.\n",
    "# Shows the relationship between the dependent variables and the independent variable:\n",
    "corrmatrix = df_rainfall.corr()\n",
    "fig = plt.figure(figsize = (12, 9))\n",
    "\n",
    "sns.heatmap(corrmatrix, vmax = 1.0, square = True)\n",
    "plt.show()"
   ]
  },
  {
   "cell_type": "code",
   "execution_count": null,
   "metadata": {
    "colab": {
     "base_uri": "https://localhost:8080/",
     "height": 472
    },
    "id": "MbzDTsjc4OVd",
    "outputId": "45d9a18b-7f61-41dc-d393-ceb5f6821390"
   },
   "outputs": [
    {
     "data": {
      "image/png": "[encoded data removed]",
      "text/plain": [
       "<Figure size 640x480 with 1 Axes>"
      ]
     },
     "metadata": {},
     "output_type": "display_data"
    }
   ],
   "source": [
    "# Create a scatterplot to test if 'HumidityAvgPercent' influences the amount of precipitation:\n",
    "plt.scatter(df_rainfall[\"HumidityAvgPercent\"], df_rainfall[\"PrecipitationSumInches\"])\n",
    "plt.xlabel(\"Average Humidity (%)\")\n",
    "plt.ylabel(\"Amount of Precipitation (Inches)\")\n",
    "plt.title(\"Precipitation vs. Average Humidy\");"
   ]
  },
  {
   "cell_type": "code",
   "execution_count": null,
   "metadata": {
    "colab": {
     "base_uri": "https://localhost:8080/"
    },
    "id": "2t5i0fSK4OVe",
    "outputId": "d97b507a-c2d1-4230-b941-7d00598fb8d2"
   },
   "outputs": [
    {
     "name": "stdout",
     "output_type": "stream",
     "text": [
      "The Pearson correlation coefficient is:  0.3681990786463324\n"
     ]
    }
   ],
   "source": [
    "# The Pearson correlation coefficient of 'PrecipitationSumInches' and 'HumidityAvgPercent':\n",
    "p_correlation = df_rainfall[\"HumidityAvgPercent\"].corr(df_rainfall[\"PrecipitationSumInches\"])\n",
    "print(\"The Pearson correlation coefficient is: \", p_correlation)"
   ]
  },
  {
   "cell_type": "markdown",
   "metadata": {
    "id": "issfFVle4OVf"
   },
   "source": [
    "# Training & Test Splitting Data"
   ]
  },
  {
   "cell_type": "code",
   "execution_count": null,
   "metadata": {
    "colab": {
     "base_uri": "https://localhost:8080/"
    },
    "id": "LZokwYUF4OVf",
    "outputId": "ef883309-28ac-458f-f745-c73faeeda030"
   },
   "outputs": [
    {
     "name": "stdout",
     "output_type": "stream",
     "text": [
      "(1008, 14) (1008,)\n"
     ]
    }
   ],
   "source": [
    "# Dataset summary:\n",
    "print(input_ds.shape, output_ds.shape)"
   ]
  },
  {
   "cell_type": "code",
   "execution_count": null,
   "metadata": {
    "colab": {
     "base_uri": "https://localhost:8080/"
    },
    "id": "KPFRiF-B4OVg",
    "outputId": "ec58754e-2a8f-4ac5-a646-1534e1665f05"
   },
   "outputs": [
    {
     "name": "stdout",
     "output_type": "stream",
     "text": [
      "input train:  (806, 14)\n",
      "\n",
      "input test:  (202, 14)\n",
      "\n",
      "output train:  (806,)\n",
      "\n",
      "output test:  (202,)\n"
     ]
    }
   ],
   "source": [
    "# Split into train and test sets:\n",
    "input_train, input_test, output_train, output_test = train_test_split(input_ds, output_ds, test_size = 0.2, random_state = 42)\n",
    "\n",
    "print(\"input train: \", input_train.shape)\n",
    "print(\"\\ninput test: \", input_test.shape)\n",
    "print(\"\\noutput train: \", output_train.shape)\n",
    "print(\"\\noutput test: \", output_test.shape)"
   ]
  },
  {
   "cell_type": "code",
   "execution_count": null,
   "metadata": {
    "id": "9l6leNO54OVg"
   },
   "outputs": [],
   "source": [
    "# Standardize the training and test set:\n",
    "sc = StandardScaler()\n",
    "input_train = sc.fit_transform(input_train)\n",
    "input_test = sc.transform(input_test)"
   ]
  },
  {
   "cell_type": "code",
   "execution_count": null,
   "metadata": {
    "colab": {
     "base_uri": "https://localhost:8080/"
    },
    "id": "LEohHR-a4OVh",
    "outputId": "95e4adb6-b772-495b-c7b7-47af8c3cdac1"
   },
   "outputs": [
    {
     "name": "stdout",
     "output_type": "stream",
     "text": [
      "[[-1.05255844 -1.23480713 -1.38764384 -2.05959806 -2.63694306 -2.23259463\n",
      "  -1.56512579  1.58762965  0.05761512  0.54358645  0.83061291  0.67215627\n",
      "   0.62588596  0.78520543]\n",
      " [-1.69273509 -1.23480713 -0.7194392  -0.72643975  0.77073194  0.68428437\n",
      "   0.54127174  0.425014    0.05761512 -0.90477943 -1.39447727  0.67215627\n",
      "  -0.36520261  0.25233236]]\n"
     ]
    }
   ],
   "source": [
    "# Print the first 2 rows of the 'input_train' 2D array:\n",
    "print(input_train[:2])"
   ]
  },
  {
   "cell_type": "markdown",
   "metadata": {
    "id": "m2PIOeof4OVi"
   },
   "source": [
    "# Machine Learning Algorithms"
   ]
  },
  {
   "cell_type": "markdown",
   "metadata": {
    "id": "GsOyMKvf4OVi"
   },
   "source": [
    "## Baseline Model"
   ]
  },
  {
   "cell_type": "code",
   "execution_count": null,
   "metadata": {
    "colab": {
     "base_uri": "https://localhost:8080/"
    },
    "id": "ppnW657Q4OVj",
    "outputId": "cc4a3b22-aefd-4d65-df89-5c015ede7eb6"
   },
   "outputs": [
    {
     "name": "stdout",
     "output_type": "stream",
     "text": [
      "Mean precipitation level is:  0.09\n",
      "Baseline MAE is:  0.14\n",
      "Baseline RMSE is:  0.3\n"
     ]
    }
   ],
   "source": [
    "y_train_mean = output_train.mean()\n",
    "y_pred_baseline = [y_train_mean] * len(output_train)\n",
    "mae_baseline = mean_absolute_error(output_train, y_pred_baseline)\n",
    "rmse_baseline = np.sqrt(mean_squared_error(output_train, y_pred_baseline))\n",
    "print(\"Mean precipitation level is: \", round(y_train_mean, 2))\n",
    "print(\"Baseline MAE is: \", round(mae_baseline, 2))\n",
    "print(\"Baseline RMSE is: \", round(rmse_baseline, 2))"
   ]
  },
  {
   "cell_type": "markdown",
   "metadata": {
    "id": "WLJEwvjY4OVj"
   },
   "source": [
    "## Select & Train a Model"
   ]
  },
  {
   "cell_type": "markdown",
   "metadata": {
    "id": "0jHytwAp4OVk"
   },
   "source": [
    "## 1. Multivariate Linear Regression (MLR)"
   ]
  },
  {
   "cell_type": "code",
   "execution_count": null,
   "metadata": {
    "colab": {
     "base_uri": "https://localhost:8080/"
    },
    "id": "JKVQA5rN-_lg",
    "outputId": "275b8e69-42e2-4aab-807a-419197718797"
   },
   "outputs": [
    {
     "name": "stdout",
     "output_type": "stream",
     "text": [
      "The intercept is: 0.08528535980148888 \n",
      "\n",
      "The coefficient is: [ 0.24571219 -0.33747861  0.31965307 -0.22037346  0.12773646 -0.25306266\n",
      "  0.27313453 -0.00437155  0.02615958 -0.10718213 -0.02063717  0.07573155\n",
      " -0.07114171  0.02975905] \n",
      "\n",
      "The training MAE is: 0.12 \n",
      "\n",
      "The training Accuracy is: 32.72 %\n",
      "\n",
      "Scores RMSE: [0.2380799  0.20186494 0.18686664 0.37246955 0.2041969  0.17203585\n",
      " 0.45722685 0.16922172 0.19475157 0.17712903] \n",
      "\n",
      "Standard deviation: 0.09266019734473512 \n",
      "\n",
      "Mean RMSE is: 0.24 \n",
      "\n"
     ]
    }
   ],
   "source": [
    "from sklearn.linear_model import LinearRegression\n",
    "from sklearn.metrics import mean_absolute_error, r2_score\n",
    "from sklearn.model_selection import cross_val_score\n",
    "import numpy as np\n",
    "\n",
    "# Create a linear regression model and train it\n",
    "model = LinearRegression()\n",
    "model.fit(input_train, output_train)\n",
    "\n",
    "# Calculating the intercept and coefficient\n",
    "print(\"The intercept is:\", model.intercept_, \"\\n\")\n",
    "print(\"The coefficient is:\", model.coef_, \"\\n\")\n",
    "\n",
    "# Make predictions\n",
    "predictions_lr = model.predict(input_train)\n",
    "\n",
    "# Evaluate the model on the training set\n",
    "# The Mean Absolute Error\n",
    "mae_training = mean_absolute_error(output_train, predictions_lr)\n",
    "print(\"The training MAE is:\", round(mae_training, 2), \"\\n\")\n",
    "\n",
    "# The Accuracy of the model\n",
    "acc_mlr = r2_score(output_train, predictions_lr) * 100\n",
    "print(\"The training Accuracy is:\", round(acc_mlr, 2), \"%\\n\")\n",
    "\n",
    "# The Root Mean Squared Error\n",
    "scores = cross_val_score(model, input_train, output_train, scoring=\"neg_mean_squared_error\", cv=10)\n",
    "rmse_scores = np.sqrt(-scores)\n",
    "\n",
    "# Display RMSE results\n",
    "def display_scores(scores):\n",
    "    print(\"Scores RMSE:\", scores, \"\\n\")\n",
    "    print(\"Standard deviation:\", scores.std(), \"\\n\")\n",
    "    print(\"Mean RMSE is:\", round(scores.mean(), 2), \"\\n\")\n",
    "\n",
    "display_scores(rmse_scores)\n"
   ]
  },
  {
   "cell_type": "markdown",
   "metadata": {
    "id": "bhftK5DN4OWJ"
   },
   "source": [
    "## 2. KNeighbors Regressor (KNN)"
   ]
  },
  {
   "cell_type": "code",
   "execution_count": null,
   "metadata": {
    "colab": {
     "base_uri": "https://localhost:8080/"
    },
    "id": "-NsQeFnkAITi",
    "outputId": "2b97d20c-16a2-4765-eeab-5f0176826330"
   },
   "outputs": [
    {
     "name": "stdout",
     "output_type": "stream",
     "text": [
      "The training MAE is: 0.04 \n",
      "\n",
      "The training Accuracy is: 77.52 %\n",
      "\n",
      "Scores RMSE: [0.23882557 0.24624025 0.15695993 0.33372616 0.34425443 0.23153074\n",
      " 0.36634768 0.18402615 0.1782642  0.17060737] \n",
      "\n",
      "Standard deviation: 0.07357095109061319 \n",
      "\n",
      "Mean RMSE is: 0.25 \n",
      "\n"
     ]
    }
   ],
   "source": [
    "from sklearn.neighbors import KNeighborsRegressor\n",
    "from sklearn.metrics import mean_absolute_error, r2_score\n",
    "from sklearn.model_selection import cross_val_score\n",
    "import numpy as np\n",
    "\n",
    "# Create a KNeighbors Regression model and train it\n",
    "kn_reg = KNeighborsRegressor(n_neighbors=2)\n",
    "kn_reg.fit(input_train, output_train)\n",
    "\n",
    "# Make predictions\n",
    "predictions_knn = kn_reg.predict(input_train)\n",
    "\n",
    "# Evaluate the model on the training set\n",
    "# The Mean Absolute Error\n",
    "mae_training = mean_absolute_error(output_train, predictions_knn)\n",
    "print(\"The training MAE is:\", round(mae_training, 2), \"\\n\")\n",
    "\n",
    "# The Accuracy of the model in percentage\n",
    "acc_knn = r2_score(output_train, predictions_knn) * 100\n",
    "print(\"The training Accuracy is:\", round(acc_knn, 2), \"%\\n\")\n",
    "\n",
    "# The Root Mean Squared Error\n",
    "scores = cross_val_score(kn_reg, input_train, output_train, scoring=\"neg_mean_squared_error\", cv=10)\n",
    "rmse_scores = np.sqrt(-scores)\n",
    "\n",
    "# Display RMSE results\n",
    "def display_scores(scores):\n",
    "    print(\"Scores RMSE:\", scores, \"\\n\")\n",
    "    print(\"Standard deviation:\", scores.std(), \"\\n\")\n",
    "    print(\"Mean RMSE is:\", round(scores.mean(), 2), \"\\n\")\n",
    "\n",
    "display_scores(rmse_scores)\n"
   ]
  },
  {
   "cell_type": "markdown",
   "metadata": {
    "id": "mXzcCJIi4OaG"
   },
   "source": [
    "## 3. Random Forest Regressor"
   ]
  },
  {
   "cell_type": "code",
   "execution_count": null,
   "metadata": {
    "colab": {
     "base_uri": "https://localhost:8080/"
    },
    "id": "DUIN-qrFAhcy",
    "outputId": "e654ecaf-12b3-453c-e321-793eea50c6d8"
   },
   "outputs": [
    {
     "name": "stdout",
     "output_type": "stream",
     "text": [
      "The training MAE is: 0.03 \n",
      "\n",
      "The training Accuracy is: 90.68 %\n",
      "\n",
      "Scores RMSE: [0.22940556 0.18752437 0.21494814 0.30977258 0.26031572 0.1805626\n",
      " 0.42713937 0.12214398 0.23608667 0.12832896] \n",
      "\n",
      "Standard deviation: 0.0852216719394193 \n",
      "\n",
      "Mean RMSE is: 0.23 \n",
      "\n"
     ]
    }
   ],
   "source": [
    "from sklearn.ensemble import RandomForestRegressor\n",
    "from sklearn.metrics import mean_absolute_error, r2_score\n",
    "from sklearn.model_selection import cross_val_score\n",
    "import numpy as np\n",
    "\n",
    "# Create a Random Forest Regressor model and train it\n",
    "forest_reg = RandomForestRegressor()\n",
    "forest_reg.fit(input_train, output_train)\n",
    "\n",
    "# Make predictions\n",
    "predictions_forest = forest_reg.predict(input_train)\n",
    "\n",
    "# Evaluate the model on the training set\n",
    "# The Mean Absolute Error\n",
    "mae_training = mean_absolute_error(output_train, predictions_forest)\n",
    "print(\"The training MAE is:\", round(mae_training, 2), \"\\n\")\n",
    "\n",
    "# The Accuracy of the model\n",
    "acc_rf = r2_score(output_train, predictions_forest) * 100\n",
    "print(\"The training Accuracy is:\", round(acc_rf, 2), \"%\\n\")\n",
    "\n",
    "# The Root Mean Squared Error\n",
    "scores = cross_val_score(forest_reg, input_train, output_train, scoring=\"neg_mean_squared_error\", cv=10)\n",
    "rmse_scores = np.sqrt(-scores)\n",
    "\n",
    "# Display RMSE results\n",
    "def display_scores(scores):\n",
    "    print(\"Scores RMSE:\", scores, \"\\n\")\n",
    "    print(\"Standard deviation:\", scores.std(), \"\\n\")\n",
    "    print(\"Mean RMSE is:\", round(scores.mean(), 2), \"\\n\")\n",
    "\n",
    "display_scores(rmse_scores)\n"
   ]
  },
  {
   "cell_type": "markdown",
   "metadata": {
    "id": "F-DP738W4OaH"
   },
   "source": [
    "## 4. Support Vector Machines"
   ]
  },
  {
   "cell_type": "markdown",
   "metadata": {
    "id": "ZmP3jB6L4OaI"
   },
   "source": [
    "### Testing Different Parameters:"
   ]
  },
  {
   "cell_type": "markdown",
   "metadata": {
    "id": "P2D4xFqa4OaI"
   },
   "source": [
    "### Parameter 1 (kernel = \"linear\")"
   ]
  },
  {
   "cell_type": "code",
   "execution_count": null,
   "metadata": {
    "colab": {
     "base_uri": "https://localhost:8080/"
    },
    "id": "LPj5XhzAA9qc",
    "outputId": "a7402871-c42f-49e9-c692-5564ce39d3fb"
   },
   "outputs": [
    {
     "name": "stdout",
     "output_type": "stream",
     "text": [
      "The training MAE is: 0.11 \n",
      "\n",
      "The training Accuracy is: 21.9 %\n",
      "\n",
      "Scores RMSE: [0.25175962 0.17643558 0.1997258  0.41529319 0.18913161 0.17780183\n",
      " 0.48623003 0.17697073 0.20984416 0.16589841] \n",
      "\n",
      "Standard deviation: 0.10665176354804083 \n",
      "\n",
      "Mean RMSE is: 0.24 \n",
      "\n"
     ]
    }
   ],
   "source": [
    "from sklearn.svm import SVR\n",
    "from sklearn.metrics import mean_absolute_error, r2_score\n",
    "from sklearn.model_selection import cross_val_score\n",
    "import numpy as np\n",
    "\n",
    "# Create a Support Vector Regressor model and train it\n",
    "regressor_linear = SVR(kernel=\"linear\")\n",
    "regressor_linear.fit(input_train, output_train)\n",
    "\n",
    "# Make predictions\n",
    "predictions_svr_l = regressor_linear.predict(input_train)\n",
    "\n",
    "# Evaluate the model on the training set\n",
    "# The Mean Absolute Error\n",
    "mae_training = mean_absolute_error(output_train, predictions_svr_l)\n",
    "print(\"The training MAE is:\", round(mae_training, 2), \"\\n\")\n",
    "\n",
    "# The R^2 Score (Accuracy of the model)\n",
    "acc_svm = r2_score(output_train, predictions_svr_l) * 100\n",
    "print(\"The training Accuracy is:\", round(acc_svm, 2), \"%\\n\")\n",
    "\n",
    "# The Root Mean Squared Error\n",
    "scores = cross_val_score(regressor_linear, input_train, output_train, scoring=\"neg_mean_squared_error\", cv=10)\n",
    "rmse_scores = np.sqrt(-scores)\n",
    "\n",
    "# Display RMSE results\n",
    "def display_scores(scores):\n",
    "    print(\"Scores RMSE:\", scores, \"\\n\")\n",
    "    print(\"Standard deviation:\", scores.std(), \"\\n\")\n",
    "    print(\"Mean RMSE is:\", round(scores.mean(), 2), \"\\n\")\n",
    "\n",
    "display_scores(rmse_scores)\n"
   ]
  },
  {
   "cell_type": "markdown",
   "metadata": {
    "id": "WtNZRz9D4Oaa"
   },
   "source": [
    "### Parameter 2 (kernel = \"rbf\")"
   ]
  },
  {
   "cell_type": "code",
   "execution_count": null,
   "metadata": {
    "colab": {
     "base_uri": "https://localhost:8080/"
    },
    "id": "W5rgTEpEBWSo",
    "outputId": "4d6bc125-d3cc-4eb6-d09c-9afafbbd42a6"
   },
   "outputs": [
    {
     "name": "stdout",
     "output_type": "stream",
     "text": [
      "The training MAE is: 0.09 \n",
      "\n",
      "The training Accuracy is: 61.08 %\n",
      "\n",
      "Scores RMSE: [0.21991073 0.17131496 0.1580901  0.32496973 0.1814094  0.16502927\n",
      " 0.41999116 0.13791165 0.18816222 0.13328967] \n",
      "\n",
      "Standard deviation: 0.08717889593176742 \n",
      "\n",
      "Mean RMSE is: 0.21 \n",
      "\n"
     ]
    }
   ],
   "source": [
    "from sklearn.svm import SVR\n",
    "from sklearn.metrics import mean_absolute_error, r2_score\n",
    "from sklearn.model_selection import cross_val_score\n",
    "import numpy as np\n",
    "\n",
    "# Create a Support Vector Regressor model with RBF kernel and train it\n",
    "regressor_rbf = SVR(kernel=\"rbf\")\n",
    "regressor_rbf.fit(input_train, output_train)\n",
    "\n",
    "# Make predictions\n",
    "predictions_svr_r = regressor_rbf.predict(input_train)\n",
    "\n",
    "# Evaluate the model on the training set\n",
    "# The Mean Absolute Error\n",
    "mae_training = mean_absolute_error(output_train, predictions_svr_r)\n",
    "print(\"The training MAE is:\", round(mae_training, 2), \"\\n\")\n",
    "\n",
    "# The R^2 Score (Accuracy of the model)\n",
    "acc_svm_rbf = r2_score(output_train, predictions_svr_r) * 100\n",
    "print(\"The training Accuracy is:\", round(acc_svm_rbf, 2), \"%\\n\")\n",
    "\n",
    "# The Root Mean Squared Error\n",
    "scores = cross_val_score(regressor_rbf, input_train, output_train, scoring=\"neg_mean_squared_error\", cv=10)\n",
    "rmse_scores = np.sqrt(-scores)\n",
    "\n",
    "# Display RMSE results\n",
    "def display_scores(scores):\n",
    "    print(\"Scores RMSE:\", scores, \"\\n\")\n",
    "    print(\"Standard deviation:\", scores.std(), \"\\n\")\n",
    "    print(\"Mean RMSE is:\", round(scores.mean(), 2), \"\\n\")\n",
    "\n",
    "display_scores(rmse_scores)\n"
   ]
  },
  {
   "cell_type": "code",
   "execution_count": null,
   "metadata": {
    "colab": {
     "base_uri": "https://localhost:8080/"
    },
    "id": "TF5NT90TCcSI",
    "outputId": "916d183f-6e92-4146-d133-391158986d22"
   },
   "outputs": [
    {
     "data": {
      "image/png": "[encoded data removed]",
      "text/plain": [
       "<Figure size 1000x600 with 1 Axes>"
      ]
     },
     "metadata": {},
     "output_type": "display_data"
    }
   ],
   "source": [
    "import matplotlib.pyplot as plt\n",
    "\n",
    "# Define the model names and their respective accuracies (R^2 scores)\n",
    "model_names = [\n",
    "    \"Linear Regression\",\n",
    "    \"KNN Regressor\",\n",
    "    \"SAIRMA\",\n",
    "    \"SVR (Linear Kernel)\",\n",
    "    \"SVR (RBF Kernel)\"\n",
    "]\n",
    "\n",
    "# Replace these values with the actual R^2 scores from each model's evaluation\n",
    "model_accuracies = [\n",
    "    acc_mlr,\n",
    "    acc_knn,\n",
    "    acc_rf,\n",
    "    acc_svm,\n",
    "    acc_svm_rbf\n",
    "]\n",
    "\n",
    "# Plotting the accuracies\n",
    "plt.figure(figsize=(10, 6))\n",
    "plt.bar(model_names, model_accuracies, color='skyblue')\n",
    "plt.xlabel(\"Model\")\n",
    "plt.ylabel(\"Accuracy (%)\")\n",
    "plt.title(\"Comparison of Model Accuracies\")\n",
    "plt.ylim(0, 100)  # Set the limit to 100% for better visualization\n",
    "\n",
    "# Set the y-axis ticks to range from 0 to 100 with steps of 10\n",
    "plt.yticks(range(0, 101, 10))\n",
    "\n",
    "# Display values above each bar\n",
    "for i, v in enumerate(model_accuracies):\n",
    "    plt.text(i, v + 2, f\"{round(v, 2)}%\", ha='center', fontweight='bold')\n",
    "\n",
    "plt.show()\n"
   ]
  },
  {
   "cell_type": "code",
   "execution_count": null,
   "metadata": {
    "id": "CSVXgb74OCIS"
   },
   "outputs": [],
   "source": []
  }
 ],
 "metadata": {
  "colab": {
   "provenance": []
  },
  "kernelspec": {
   "display_name": "base",
   "language": "python",
   "name": "python3"
  },
  "language_info": {
   "codemirror_mode": {
    "name": "ipython",
    "version": 3
   },
   "file_extension": ".py",
   "mimetype": "text/x-python",
   "name": "python",
   "nbconvert_exporter": "python",
   "pygments_lexer": "ipython3",
   "version": "3.12.4"
  },
  "orig_nbformat": 4
 },
 "nbformat": 4,
 "nbformat_minor": 0
}
